{
 "cells": [
  {
   "cell_type": "markdown",
   "metadata": {},
   "source": [
    "Exercise: Configuring Language Models and Prompts\n",
    "\n",
    "Objective\n",
    "To practice configuring language models (Cohere, Groq) and creating prompt templates to generate a story.\n",
    "\n",
    "Create actor_picker Function:\n",
    "Write a function named actor_picker() that randomly returns an actor's name. You can use Python's random generator to select an actor."
   ]
  },
  {
   "cell_type": "code",
   "execution_count": 10,
   "metadata": {},
   "outputs": [],
   "source": [
    "import os\n",
    "import configparser\n",
    "\n",
    "from langchain_groq import ChatGroq\n",
    "from langchain_cohere import ChatCohere\n",
    "\n",
    "from langchain_core.messages import HumanMessage, SystemMessage\n",
    "\n",
    "config = configparser.ConfigParser()\n",
    "config.read('../config.ini')\n",
    "groq = config['groq']\n",
    "cohere = config['cohere']\n",
    "\n",
    "os.environ['GROQ_API_KEY'] = groq.get('GROQ_API_KEY')\n",
    "os.environ['COHERE_API_KEY'] = cohere.get('COHERE_API_KEY')"
   ]
  },
  {
   "cell_type": "code",
   "execution_count": 11,
   "metadata": {},
   "outputs": [
    {
     "name": "stdout",
     "output_type": "stream",
     "text": [
      "paresh rawal\n"
     ]
    }
   ],
   "source": [
    "import random\n",
    "\n",
    "def actor_picker():\n",
    "    # List of actor names\n",
    "    actors = [\"Shahrukh khan\",\"Sanjay Datt\",\"akshay kumar\",\"paresh rawal\",\"nana patekar\"]\n",
    "    \n",
    "    # Randomly select and return an actor's name\n",
    "    return random.choice(actors)\n",
    "\n",
    "# Example usage\n",
    "print(actor_picker())\n"
   ]
  },
  {
   "cell_type": "markdown",
   "metadata": {},
   "source": [
    "Create location_picker Function:\n",
    "Write a function named location_picker() that randomly returns the name of a location.\n"
   ]
  },
  {
   "cell_type": "code",
   "execution_count": 12,
   "metadata": {},
   "outputs": [
    {
     "name": "stdout",
     "output_type": "stream",
     "text": [
      "Mount Fuji, Japan\n"
     ]
    }
   ],
   "source": [
    "import random\n",
    "\n",
    "def location_picker():\n",
    "    # List of locations from Japan and Maharashtra, India\n",
    "    locations = [\n",
    "        \"Tokyo, Japan\", \"Kyoto, Japan\", \"Osaka, Japan\", \"Mount Fuji, Japan\", \n",
    "        \"Hokkaido, Japan\", \"Nara, Japan\", \"Okinawa, Japan\", \"Kobe, Japan\",\n",
    "        \"Mumbai, Maharashtra, India\", \"Pune, Maharashtra, India\", \n",
    "        \"Nagpur, Maharashtra, India\", \"Nashik, Maharashtra, India\", \n",
    "        \"Aurangabad, Maharashtra, India\", \"Kolhapur, Maharashtra, India\", \n",
    "        \"Shirdi, Maharashtra, India\", \"Lonavala, Maharashtra, India\"\n",
    "    ]\n",
    "    \n",
    "    # Randomly select and return a location\n",
    "    return random.choice(locations)\n",
    "\n",
    "# Example usage\n",
    "print(location_picker())\n"
   ]
  },
  {
   "cell_type": "markdown",
   "metadata": {},
   "source": [
    "Create theme_picker Function:\n",
    "Write a function named theme_picker() that randomly returns a theme."
   ]
  },
  {
   "cell_type": "code",
   "execution_count": 13,
   "metadata": {},
   "outputs": [
    {
     "name": "stdout",
     "output_type": "stream",
     "text": [
      "Mystery\n"
     ]
    }
   ],
   "source": [
    "import random\n",
    "\n",
    "def theme_picker():\n",
    "    # List of themes\n",
    "    themes = [\n",
    "        \"Adventure\", \"Romance\", \"Mystery\", \"Horror\", \"Sci-Fi\", \"Fantasy\", \n",
    "        \"Comedy\", \"Drama\", \"Thriller\", \"Historical\", \"Superhero\"\n",
    "    ]\n",
    "    \n",
    "    # Randomly select and return a theme\n",
    "    return random.choice(themes)\n",
    "\n",
    "# Example usage\n",
    "print(theme_picker())\n"
   ]
  },
  {
   "cell_type": "markdown",
   "metadata": {},
   "source": [
    "Configure and Use Cohere Model:\n",
    "Set up the Cohere model using ChatCohere.\n",
    "Create a prompt template that generates a story centered around the chosen Actor, Location, and Theme using the Cohere model.\n",
    "Print the detailed story output from the model."
   ]
  },
  {
   "cell_type": "code",
   "execution_count": 14,
   "metadata": {},
   "outputs": [
    {
     "data": {
      "text/plain": [
       "'Akshay, a renowned detective known for his sharp intellect and unconventional methods, arrived in Pune, Maharashtra, on a warm summer day. He had received an anonymous tip about a mysterious case that would challenge his skills and take him on a thrilling journey through the heart of the city.\\n\\nAs he stepped out of the train station, the bustling streets of Pune welcomed him. He made his way to a quaint café in the old part of town, where he had been instructed to wait for further instructions. As he sipped his chai, a young woman approached him, her eyes filled with worry. \"Are you Detective Akshay Kumar?\" she asked in a hushed tone. \"Please, I need your help. My sister has gone missing, and I fear she may be in terrible danger.\"\\n\\nAkshay\\'s curiosity was piqued. He assured the woman, named Maya, that he would do everything in his power to find her sister. With Maya by his side, he set off to explore the mysterious underbelly of Pune, uncovering clues and piecing together the puzzle.\\n\\nThe trail led them to hidden temples, bustling markets, and secret underground clubs. They encountered a web of deceit, involving powerful politicians, corrupt police officers, and a shadowy criminal organization with deep roots in the city. As they got closer to the truth, they realized that Maya\\'s sister was just one of several young women who had gone missing, their disappearances linked to a mysterious ancient artifact said to hold supernatural powers.\\n\\nAkshay\\'s relentless pursuit of justice took him to the doorstep of a powerful businessman, who was using the artifact for his sinister purposes. In a climactic showdown, Akshay, with the help of Maya and a few trusted allies, confronted the villain and his henchmen, risking their lives to rescue the missing women and recover the artifact.\\n\\nAs the truth was finally revealed, Akshay\\'s reputation as a master detective grew. The people of Pune hailed him as a hero, and the mystery of the missing women was forever etched in the city\\'s history. With his unique blend of courage, wit, and unwavering determination, Akshay Kumar had once again proven that no mystery was too great for him to solve.'"
      ]
     },
     "execution_count": 14,
     "metadata": {},
     "output_type": "execute_result"
    }
   ],
   "source": [
    "from langchain_core.output_parsers import StrOutputParser\n",
    "from langchain_core.prompts import ChatPromptTemplate #import the Class for creating a prompt\n",
    "\n",
    "parser = StrOutputParser()\n",
    "actor = actor_picker() \n",
    "location = location_picker()\n",
    "theme = theme_picker()\n",
    "\n",
    "system_template = \"generates a story centered around the chosen Actor, Location, and Theme.Please provide a {responseType} response.\" \n",
    "\n",
    "input = f\"Create a story where {actor} is the main character in {location}, and the story follows a {theme} theme.\"\n",
    "# Create prompt template instance.\n",
    "prompt_template = ChatPromptTemplate.from_messages(\n",
    "    [\n",
    "        (\"system\", system_template),\n",
    "        (\"user\", input)\n",
    "    ]\n",
    ")\n",
    "\n",
    "# prompt Template also implements runnable and can be easily chained.\n",
    "model = ChatCohere(model=\"command-r-plus\")\n",
    "chain = prompt_template | model | parser\n",
    "\n",
    "chain.invoke({\"responseType\":\"brief\"})"
   ]
  },
  {
   "cell_type": "markdown",
   "metadata": {},
   "source": [
    "Configure and Use Groq Model:\n",
    "Set up the Groq model using ChatGroq.\n",
    "Create a prompt template to generate a story using the Groq model.\n",
    "Print the detailed response from the model."
   ]
  },
  {
   "cell_type": "code",
   "execution_count": 15,
   "metadata": {},
   "outputs": [
    {
     "data": {
      "text/plain": [
       "'Title: The Pune Enigma\\n\\nAkshay Kumar, a renowned private investigator, stepped off the sweltering Pune streets and into the dimly lit office of his agency, Kumar Detective Services. The scent of fresh coffee and old books wafted through the air as he settled into his worn leather chair.\\n\\nThe phone on his desk jolted him out of his thoughts, and he answered it with a curt \"Kumar speaking.\"\\n\\n\"Ah, Akshay, I need your help,\" a familiar voice whispered on the other end. It was his old friend and fellow detective, Rohan.\\n\\n\"What\\'s the case, Rohan?\" Akshay asked, his curiosity piqued.\\n\\n\"It\\'s a wealthy businessman, Ramesh Desai, who\\'s gone missing in Pune. His wife, Nalini, is frantic. She thinks something\\'s amiss, and the police are stumped. I\\'ve managed to get her to agree to meet with you, hoping your unique skills can uncover what\\'s happened to her husband.\"\\n\\nAkshay\\'s eyes narrowed as he scribbled some notes on a pad. \"I\\'ll take the case. When and where?\"\\n\\nThe meeting was set for the next evening at a discreet café in Koregaon Park. Akshay arrived early, his eyes scanning the crowded room for Nalini Desai. She spotted him and made her way over, her eyes red-rimmed from lack of sleep.\\n\\nAkshay listened intently as Nalini recounted the events leading up to her husband\\'s disappearance. He noticed the inconsistencies in her story and the subtle fear behind her eyes.\\n\\n\"I\\'ll need to investigate further,\" Akshay said, his mind already racing with theories. \"Can you give me access to Ramesh\\'s office and any relevant documents?\"\\n\\nNalini nodded, and Akshay set off into the Pune night, following a trail of clues that led him from the bustling streets of Deccan to the ancient ruins of the Aga Khan Palace.\\n\\nAs he delved deeper into the mystery, Akshay discovered that Ramesh was involved in some shady dealings, and his disappearance was only the tip of the iceberg. The deeper he dug, the more he realized that nothing was as it seemed in the city of Pune.\\n\\nIn the end, Akshay\\'s keen instincts and sharp mind unraveled the tangled web of deceit, revealing a surprising culprit and a shocking motive. As he presented his findings to Nalini, he couldn\\'t help but think that the city of Pune had just gotten a little more mysterious, and he was ready to take on its next enigma.'"
      ]
     },
     "execution_count": 15,
     "metadata": {},
     "output_type": "execute_result"
    }
   ],
   "source": [
    "\n",
    "model = ChatGroq(model=\"llama3-8b-8192\")\n",
    "chain = prompt_template | model | parser\n",
    "\n",
    "chain.invoke({\"responseType\":\"brief\"})"
   ]
  },
  {
   "cell_type": "markdown",
   "metadata": {},
   "source": [
    "Add InMemoryChatMessageHistory to store conversation:\n",
    "Use 'InMemoryChatMessageHistory', to store history and allow user customize the story.\n",
    "You can pass the story created with prompt saying 'change the given story according to user input'."
   ]
  },
  {
   "cell_type": "code",
   "execution_count": 16,
   "metadata": {},
   "outputs": [
    {
     "name": "stdout",
     "output_type": "stream",
     "text": [
      "Messages retrieved from DB\n",
      "Generated Story: Title: The Pune Puzzle\n",
      "\n",
      "Akshay Kumar, a renowned detective from Mumbai, had been summoned to Pune, the cultural capital of Maharashtra, to solve a baffling mystery. The case involved the disappearance of a wealthy businessman, Rohan Desai, who had gone missing from his luxurious bungalow in the upscale Koregaon Park area.\n",
      "\n",
      "As Akshay arrived in Pune, he was greeted by the city's Deputy Commissioner of Police, who briefed him on the case. Rohan's wife, Priya, was frantic with worry, and the police were struggling to find any leads. Akshay was tasked with unraveling the mystery and finding Rohan before it was too late.\n",
      "\n",
      "Akshay began his investigation by interviewing Priya and the Desai family members. He noticed that they seemed nervous and agitated, and he sensed that they might be hiding something. He decided to dig deeper and started by examining Rohan's office and personal workspace.\n",
      "\n",
      "After a thorough search, Akshay discovered a cryptic message on Rohan's computer: \"The answer lies in the past.\" Akshay was intrigued and decided to investigate Rohan's past. He learned that Rohan had been involved in a bitter business rivalry with a local businessman, Vikram Singh, who had been trying to acquire Rohan's company.\n",
      "\n",
      "Akshay paid a visit to Vikram's office and found him to be evasive and hostile. Akshay's instincts told him that Vikram might know more than he was letting on. He decided to keep a close eye on Vikram and his business associates.\n",
      "\n",
      "As the investigation continued, Akshay discovered that Rohan had been involved in some shady dealings, including a dubious real estate transaction. He suspected that Rohan's disappearance might be connected to his business dealings, but he needed concrete evidence to prove it.\n",
      "\n",
      "One night, while reviewing the case files, Akshay received a mysterious phone call from an unknown number. The caller claimed to have information about Rohan's disappearance and demanded a meeting at a local coffee shop.\n",
      "\n",
      "Akshay arrived at the coffee shop, armed with his detective instincts. He spotted the caller, a young woman with a scarf covering her face, and approached her. She revealed that she was Rohan's former employee, who had witnessed suspicious activity at Rohan's office. She handed Akshay a USB drive containing compromising documents and a cryptic message: \"Look for the truth in the mirror.\"\n",
      "\n",
      "Akshay realized that the message was a hint to look for a hidden camera or recording device in Rohan's office. He rushed back to the office and found a hidden camera in a mirror, which revealed a shocking conversation between Rohan and Vikram. The conversation revealed that Vikram had been manipulating Rohan into transferring his company shares to him, and Rohan had refused to comply.\n",
      "\n",
      "With the evidence in hand, Akshay arrested Vikram and his associates, and Rohan was found safe and sound in a hidden room in Vikram's office. Akshay had solved the mystery, and the Desai family was finally able to breathe a sigh of relief.\n",
      "\n",
      "As Akshay prepared to leave Pune, he was hailed as a hero by the local police and the Desai family. He had solved the puzzle, and Pune had welcomed him with open arms. The city's streets, once shrouded in mystery, were now illuminated by the bright light of justice, thanks to Akshay Kumar, the detective extraordinaire.\n"
     ]
    }
   ],
   "source": [
    "# import the chat history classes\n",
    "from langchain_core.chat_history import (\n",
    "    BaseChatMessageHistory,\n",
    "    InMemoryChatMessageHistory,\n",
    ")\n",
    "import asyncio # library for writing code that interacts with DB, network calls etc. \n",
    "\n",
    "#Create a store in memory\n",
    "store = InMemoryChatMessageHistory()\n",
    "\n",
    "\n",
    "# Lets define a function that gets messages from store\n",
    "async def getMessage():\n",
    "    await asyncio.sleep(2) # this will mimic a read from DB\n",
    "    print(\"Messages retrieved from DB\")\n",
    "    return await store.aget_messages()\n",
    "\n",
    "# Add the initial messages to the store\n",
    "store.add_message(HumanMessage(input))\n",
    "\n",
    "# Retrieve the stored messages \n",
    "messages = await getMessage()\n",
    "\n",
    "# Model invocation to generate a story based on the prompt\n",
    "response = model.invoke(messages)  # Call the model with the messages\n",
    "print(\"Generated Story:\", response.content)  # Display the generated story\n",
    "\n",
    "# Add the model's response to the store\n",
    "store.add_message(SystemMessage(response.content))"
   ]
  },
  {
   "cell_type": "code",
   "execution_count": 18,
   "metadata": {},
   "outputs": [
    {
     "name": "stdout",
     "output_type": "stream",
     "text": [
      "Messages retrieved from DB\n",
      "Conversation History: [HumanMessage(content='Create a story where akshay kumar is the main character in Pune, Maharashtra, India, and the story follows a Mystery theme.', additional_kwargs={}, response_metadata={}), SystemMessage(content='Title: The Pune Puzzle\\n\\nAkshay Kumar, a renowned detective from Mumbai, had been summoned to Pune, the cultural capital of Maharashtra, to solve a baffling mystery. The case involved the disappearance of a wealthy businessman, Rohan Desai, who had gone missing from his luxurious bungalow in the upscale Koregaon Park area.\\n\\nAs Akshay arrived in Pune, he was greeted by the city\\'s Deputy Commissioner of Police, who briefed him on the case. Rohan\\'s wife, Priya, was frantic with worry, and the police were struggling to find any leads. Akshay was tasked with unraveling the mystery and finding Rohan before it was too late.\\n\\nAkshay began his investigation by interviewing Priya and the Desai family members. He noticed that they seemed nervous and agitated, and he sensed that they might be hiding something. He decided to dig deeper and started by examining Rohan\\'s office and personal workspace.\\n\\nAfter a thorough search, Akshay discovered a cryptic message on Rohan\\'s computer: \"The answer lies in the past.\" Akshay was intrigued and decided to investigate Rohan\\'s past. He learned that Rohan had been involved in a bitter business rivalry with a local businessman, Vikram Singh, who had been trying to acquire Rohan\\'s company.\\n\\nAkshay paid a visit to Vikram\\'s office and found him to be evasive and hostile. Akshay\\'s instincts told him that Vikram might know more than he was letting on. He decided to keep a close eye on Vikram and his business associates.\\n\\nAs the investigation continued, Akshay discovered that Rohan had been involved in some shady dealings, including a dubious real estate transaction. He suspected that Rohan\\'s disappearance might be connected to his business dealings, but he needed concrete evidence to prove it.\\n\\nOne night, while reviewing the case files, Akshay received a mysterious phone call from an unknown number. The caller claimed to have information about Rohan\\'s disappearance and demanded a meeting at a local coffee shop.\\n\\nAkshay arrived at the coffee shop, armed with his detective instincts. He spotted the caller, a young woman with a scarf covering her face, and approached her. She revealed that she was Rohan\\'s former employee, who had witnessed suspicious activity at Rohan\\'s office. She handed Akshay a USB drive containing compromising documents and a cryptic message: \"Look for the truth in the mirror.\"\\n\\nAkshay realized that the message was a hint to look for a hidden camera or recording device in Rohan\\'s office. He rushed back to the office and found a hidden camera in a mirror, which revealed a shocking conversation between Rohan and Vikram. The conversation revealed that Vikram had been manipulating Rohan into transferring his company shares to him, and Rohan had refused to comply.\\n\\nWith the evidence in hand, Akshay arrested Vikram and his associates, and Rohan was found safe and sound in a hidden room in Vikram\\'s office. Akshay had solved the mystery, and the Desai family was finally able to breathe a sigh of relief.\\n\\nAs Akshay prepared to leave Pune, he was hailed as a hero by the local police and the Desai family. He had solved the puzzle, and Pune had welcomed him with open arms. The city\\'s streets, once shrouded in mystery, were now illuminated by the bright light of justice, thanks to Akshay Kumar, the detective extraordinaire.', additional_kwargs={}, response_metadata={}), HumanMessage(content='change the given story according to user input emotional ending in the climax', additional_kwargs={}, response_metadata={}), SystemMessage(content='Here\\'s a revised version of the story with a more emotional ending:\\n\\nTitle: The Pune Puzzle\\n\\nAkshay Kumar, a renowned detective from Mumbai, had been summoned to Pune, the cultural capital of Maharashtra, to solve a baffling mystery. The case involved the disappearance of a wealthy businessman, Rohan Desai, who had gone missing from his luxurious bungalow in the upscale Koregaon Park area.\\n\\nAs Akshay arrived in Pune, he was greeted by the city\\'s Deputy Commissioner of Police, who briefed him on the case. Rohan\\'s wife, Priya, was frantic with worry, and the police were struggling to find any leads. Akshay was tasked with unraveling the mystery and finding Rohan before it was too late.\\n\\nAkshay began his investigation by interviewing Priya and the Desai family members. He noticed that they seemed nervous and agitated, and he sensed that they might be hiding something. He decided to dig deeper and started by examining Rohan\\'s office and personal workspace.\\n\\nAfter a thorough search, Akshay discovered a cryptic message on Rohan\\'s computer: \"The answer lies in the past.\" Akshay was intrigued and decided to investigate Rohan\\'s past. He learned that Rohan had been involved in a bitter business rivalry with a local businessman, Vikram Singh, who had been trying to acquire Rohan\\'s company.\\n\\nAkshay paid a visit to Vikram\\'s office and found him to be evasive and hostile. Akshay\\'s instincts told him that Vikram might know more than he was letting on. He decided to keep a close eye on Vikram and his business associates.\\n\\nAs the investigation continued, Akshay discovered that Rohan had been involved in some shady dealings, including a dubious real estate transaction. He suspected that Rohan\\'s disappearance might be connected to his business dealings, but he needed concrete evidence to prove it.\\n\\nOne night, while reviewing the case files, Akshay received a mysterious phone call from an unknown number. The caller claimed to have information about Rohan\\'s disappearance and demanded a meeting at a local coffee shop.\\n\\nAkshay arrived at the coffee shop, armed with his detective instincts. He spotted the caller, a young woman with a scarf covering her face, and approached her. She revealed that she was Rohan\\'s former employee, who had witnessed suspicious activity at Rohan\\'s office. She handed Akshay a USB drive containing compromising documents and a cryptic message: \"Look for the truth in the mirror.\"\\n\\nAkshay realized that the message was a hint to look for a hidden camera or recording device in Rohan\\'s office. He rushed back to the office and found a hidden camera in a mirror, which revealed a shocking conversation between Rohan and Vikram. The conversation revealed that Vikram had been manipulating Rohan into transferring his company shares to him, and Rohan had refused to comply.\\n\\nWith the evidence in hand, Akshay arrested Vikram and his associates, and Rohan was found safe and sound in a hidden room in Vikram\\'s office. Akshay was overjoyed to have solved the case, but as he was about to leave the police station, he received a surprise visit from Rohan\\'s wife, Priya.\\n\\nPriya had been hiding a secret - she was the one who had been manipulating Rohan into transferring his company shares to Vikram. She had done it to save her own business, which was struggling to stay afloat. Akshay was shocked and devastated by this revelation. He had solved the case, but in doing so, he had also uncovered a deep betrayal.\\n\\nAs Akshay left the police station, he couldn\\'t shake off the feeling of sadness and disillusionment. He had always believed in the goodness of people, but this case had shown him that even those closest to us can be capable of great deceit.\\n\\nThe next morning, Akshay received a visit from Rohan, who had been released from custody. Rohan was grateful to Akshay for solving the case and finding him, but he also asked Akshay to forgive Priya. Akshay was taken aback by this request, but he realized that forgiveness was the only way to heal the wounds of the past.\\n\\nAkshay and Rohan parted ways, but not before Rohan handed Akshay a small gift - a handmade wooden box with a note that read: \"For the best detective in the world. May you always find the truth, even in the darkest of places.\"\\n\\nAkshay opened the box to find a small note inside that read: \"You are not just a detective, you are a guardian of truth and justice. Never give up on that.\"\\n\\nAs Akshay departed Pune, he felt a sense of sadness wash over him. He had solved the case, but he had also lost his faith in humanity. But as he looked at the small wooden box in his hand, he knew that he would never give up on his mission to uncover the truth and fight for justice.', additional_kwargs={}, response_metadata={}), HumanMessage(content='change the given story according to user input emotional ending in the climax', additional_kwargs={}, response_metadata={})]\n",
      "Updated Story: Here is the revised story:\n",
      "\n",
      "Title: The Pune Puzzle\n",
      "\n",
      "Akshay Kumar, a renowned detective from Mumbai, had been summoned to Pune, the cultural capital of Maharashtra, to solve a baffling mystery. The case involved the disappearance of a wealthy businessman, Rohan Desai, who had gone missing from his luxurious bungalow in the upscale Koregaon Park area.\n",
      "\n",
      "As Akshay arrived in Pune, he was greeted by the city's Deputy Commissioner of Police, who briefed him on the case. Rohan's wife, Priya, was frantic with worry, and the police were struggling to find any leads. Akshay was tasked with unraveling the mystery and finding Rohan before it was too late.\n",
      "\n",
      "Akshay began his investigation by interviewing Priya and the Desai family members. He noticed that they seemed nervous and agitated, and he sensed that they might be hiding something. He decided to dig deeper and started by examining Rohan's office and personal workspace.\n",
      "\n",
      "After a thorough search, Akshay discovered a cryptic message on Rohan's computer: \"The answer lies in the past.\" Akshay was intrigued and decided to investigate Rohan's past. He learned that Rohan had been involved in a bitter business rivalry with a local businessman, Vikram Singh, who had been trying to acquire Rohan's company.\n",
      "\n",
      "Akshay paid a visit to Vikram's office and found him to be evasive and hostile. Akshay's instincts told him that Vikram might know more than he was letting on. He decided to keep a close eye on Vikram and his business associates.\n",
      "\n",
      "As the investigation continued, Akshay discovered that Rohan had been involved in some shady dealings, including a dubious real estate transaction. He suspected that Rohan's disappearance might be connected to his business dealings, but he needed concrete evidence to prove it.\n",
      "\n",
      "One night, while reviewing the case files, Akshay received a mysterious phone call from an unknown number. The caller claimed to have information about Rohan's disappearance and demanded a meeting at a local coffee shop.\n",
      "\n",
      "Akshay arrived at the coffee shop, armed with his detective instincts. He spotted the caller, a young woman with a scarf covering her face, and approached her. She revealed that she was Rohan's former employee, who had witnessed suspicious activity at Rohan's office. She handed Akshay a USB drive containing compromising documents and a cryptic message: \"Look for the truth in the mirror.\"\n",
      "\n",
      "Akshay realized that the message was a hint to look for a hidden camera or recording device in Rohan's office. He rushed back to the office and found a hidden camera in a mirror, which revealed a shocking conversation between Rohan and Vikram. The conversation revealed that Vikram had been manipulating Rohan into transferring his company shares to him, and Rohan had refused to comply.\n",
      "\n",
      "With the evidence in hand, Akshay arrested Vikram and his associates, and Rohan was found safe and sound in a hidden room in Vikram's office. Akshay was overjoyed to have solved the case, but as he was about to leave the police station, he received a surprise visit from Rohan's wife, Priya.\n",
      "\n",
      "Priya had been hiding a secret - she was the one who had been manipulating Rohan into transferring his company shares to Vikram. She had done it to save her own business, which was struggling to stay afloat. Akshay was shocked and devastated by this revelation. He had solved the case, but in doing so, he had also uncovered a deep betrayal.\n",
      "\n",
      "As Akshay left the police station, he couldn't shake off the feeling of sadness and disillusionment. He had always believed in the goodness of people, but this case had shown him that even those closest to us can be capable of great deceit.\n",
      "\n",
      "The next morning, Akshay received a visit from Rohan, who had been released from custody. Rohan was grateful to Akshay for solving the case and finding him, but he also asked Akshay to forgive Priya. Akshay was taken aback by this request, but he realized that forgiveness was the only way to heal the wounds of the past.\n",
      "\n",
      "Akshay and Rohan parted ways, but not before Rohan handed Akshay a small gift - a handmade wooden box with a note that read: \"For the best detective in the world. May you always find the truth, even in the darkest of places.\"\n",
      "\n",
      "Akshay opened the box to find a small note inside that read: \"You are not just a detective, you are a guardian of truth and justice. Never give up on that.\"\n",
      "\n",
      "As Akshay departed Pune, he felt a sense of sadness wash over him. He had solved the case, but he had also lost his faith in humanity. But as he looked at the small wooden box in his hand, he knew that he would never give up on his mission to uncover the truth and fight for justice.\n",
      "\n",
      "The camera panned out to show Akshay walking away from the city, the wooden box clenched in his hand, as the sound of a flute played softly in the background. The screen faded to black, with the words \"The End\" appearing on the screen.\n"
     ]
    }
   ],
   "source": [
    "# allow the user to customize the story\n",
    "\n",
    "user_input = \"emotional ending in the climax\"\n",
    "user_input1 = f\"change the given story according to user input {user_input}\"\n",
    "\n",
    "# Add the user's customization request to the store\n",
    "store.add_message(HumanMessage(user_input1))\n",
    "\n",
    "# Retrieve updated messages after user input\n",
    "messages = await getMessage()\n",
    "\n",
    "# Display all stored messages\n",
    "print(\"Conversation History:\", messages)\n",
    "\n",
    "# Call the model again with the updated conversation including the user's input\n",
    "response = model.invoke(messages)\n",
    "print(\"Updated Story:\", response.content)\n",
    "\n",
    "# Add the updated model response to the store\n",
    "store.add_message(SystemMessage(response.content))"
   ]
  },
  {
   "cell_type": "code",
   "execution_count": null,
   "metadata": {},
   "outputs": [],
   "source": []
  }
 ],
 "metadata": {
  "kernelspec": {
   "display_name": "Python 3",
   "language": "python",
   "name": "python3"
  },
  "language_info": {
   "codemirror_mode": {
    "name": "ipython",
    "version": 3
   },
   "file_extension": ".py",
   "mimetype": "text/x-python",
   "name": "python",
   "nbconvert_exporter": "python",
   "pygments_lexer": "ipython3",
   "version": "3.12.1"
  }
 },
 "nbformat": 4,
 "nbformat_minor": 2
}
