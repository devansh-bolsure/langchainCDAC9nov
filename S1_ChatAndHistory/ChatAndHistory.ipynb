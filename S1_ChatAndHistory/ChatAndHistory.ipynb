{
 "cells": [
  {
   "cell_type": "markdown",
   "id": "7d6e9013",
   "metadata": {},
   "source": [
    "### Setup Langchain + LLM\n",
    "1. Install Langchain: \n",
    "- pip intall langchain\n",
    "2. Install integration packages.\n",
    "- pip install -U langchain-cohere\n",
    "- pip install -U langchain-groq\n",
    "- pip install -U langchain-mistralai"
   ]
  },
  {
   "cell_type": "code",
   "execution_count": null,
   "id": "2ae4cdab",
   "metadata": {},
   "outputs": [
    {
     "name": "stdout",
     "output_type": "stream",
     "text": [
      "content=\"Astronomy is a fascinating field of science that offers a wealth of knowledge and wonder about the universe we live in. Here are some reasons why astronomy is so captivating and valuable:\\n\\n1. Understanding the Universe: Astronomy provides us with a deeper understanding of the cosmos, including the nature of stars, planets, galaxies, and the very fabric of spacetime. It answers fundamental questions about our place in the universe and expands our perspective beyond our immediate surroundings.\\n\\n2. Cosmic Beauty and Wonder: Astronomical phenomena offer some of the most breathtaking visuals imaginable. From stunning images of galaxies colliding to the vibrant hues of the northern lights, the beauty of the cosmos inspires awe and a sense of wonder. It reminds us of the vast and intricate nature of the universe.\\n\\n3. Scientific Discovery: Astronomy drives scientific discovery and innovation. It pushes the boundaries of technology, requiring advanced instruments and methods for observation and data analysis. Discoveries in astronomy often lead to breakthroughs in other fields, such as physics, mathematics, and engineering.\\n\\n4. Exploring Our Origins: Astronomy helps us explore the origins of the universe and life itself. By studying the formation of stars and planets, the evolution of galaxies, and the chemistry of interstellar space, astronomers piece together the story of how we came to exist and how our planet became habitable.\\n\\n5. Expanding Our Horizons: The study of astronomy encourages us to think on a grand scale, both spatially and temporally. It teaches us about the vast distances and immense timescales involved in cosmic processes, fostering a sense of humility and a broader perspective on our place in the universe.\\n\\n6. Public Engagement and Education: Astronomy has a unique ability to capture the public imagination and inspire curiosity about science. It serves as a gateway to science education, engaging people of all ages in the wonders of the cosmos and fostering a deeper understanding of scientific principles.\\n\\nWhether it's uncovering the mysteries of black holes, searching for extraterrestrial life, or simply gazing at the night sky, astronomy enriches our lives, fuels our curiosity, and connects us to the universe we inhabit. \\n\\nHave a fantastic day!\" additional_kwargs={'documents': None, 'citations': None, 'search_results': None, 'search_queries': None, 'is_search_required': None, 'generation_id': '88546817-ab46-4bf7-be60-4879cb723f33', 'token_count': {'input_tokens': 231.0, 'output_tokens': 427.0}} response_metadata={'documents': None, 'citations': None, 'search_results': None, 'search_queries': None, 'is_search_required': None, 'generation_id': '88546817-ab46-4bf7-be60-4879cb723f33', 'token_count': {'input_tokens': 231.0, 'output_tokens': 427.0}} id='run-c42cd1d1-b9d2-4d44-b90f-8f81ff70e678-0' usage_metadata={'input_tokens': 231, 'output_tokens': 427, 'total_tokens': 658}\n",
      "content=\"Astronomy, the study of the universe beyond Earth's atmosphere, is indeed fascinating and has many benefits!\\n\\nFor one, astronomy helps us understand the vastness and complexity of the universe, which can inspire a sense of awe and wonder. By studying the stars, planets, galaxies, and other celestial bodies, astronomers can gain insights into the formation and evolution of the universe, as well as the potential for life beyond Earth.\\n\\nAstronomy also drives technological innovation, as scientists and engineers develop new instruments, telescopes, and spacecraft to explore the cosmos. These advancements often have spin-off benefits for other fields, such as medicine, environmental science, and even weather forecasting!\\n\\nFurthermore, astronomy has contributed significantly to our understanding of the Earth's place in the universe. By studying the Sun, Moon, and planets, astronomers can better predict and prepare for weather patterns, eclipses, and other celestial events that affect our daily lives.\\n\\nLastly, astronomy has a way of bringing people together, fostering a sense of community and curiosity among scientists, educators, and enthusiasts alike. It's a shared passion that transcends borders and cultures!\\n\\nSo, what's so good about astronomy? It's a combination of wonder, innovation, practical applications, and community that makes it an extraordinary field!\\n\\nHave a fantastic day!\" additional_kwargs={} response_metadata={'token_usage': {'completion_tokens': 260, 'prompt_tokens': 50, 'total_tokens': 310, 'completion_time': 0.216666667, 'prompt_time': 0.006413664, 'queue_time': 0.007445796, 'total_time': 0.223080331}, 'model_name': 'llama3-8b-8192', 'system_fingerprint': 'fp_6a6771ae9c', 'finish_reason': 'stop', 'logprobs': None} id='run-6afdfc6e-f8a0-4169-8b7f-943032f6be32-0' usage_metadata={'input_tokens': 50, 'output_tokens': 260, 'total_tokens': 310}\n"
     ]
    }
   ],
   "source": [
    "import os\n",
    "import configparser\n",
    "\n",
    "from langchain_groq import ChatGroq\n",
    "from langchain_cohere import ChatCohere\n",
    "\n",
    "from langchain_core.messages import HumanMessage, SystemMessage\n",
    "\n",
    "config = configparser.ConfigParser()\n",
    "config.read('../config.ini')\n",
    "groq = config['groq']\n",
    "cohere = config['cohere']\n",
    "\n",
    "os.environ['GROQ_API_KEY'] = groq.get('GROQ_API_KEY')\n",
    "os.environ['COHERE_API_KEY'] = cohere.get('COHERE_API_KEY')\n",
    "\n",
    "messages = [\n",
    "    SystemMessage(content='You are a weather service. You will respond to weather queries to the best of you ability. You will always end with - Have a fantastic day'),\n",
    "    HumanMessage(content='what is so good about astronomy')\n",
    "]\n",
    "\n",
    "\n",
    "\n",
    "## code for cohere.\n",
    "model = ChatCohere(model=\"command-r-plus\")\n",
    "print(model.invoke(messages))\n",
    "\n",
    "## Code for Groq\n",
    "model = ChatGroq(model=\"llama3-8b-8192\")\n",
    "print(model.invoke(messages))\n",
    "\n",
    "\n"
   ]
  },
  {
   "cell_type": "code",
   "execution_count": 2,
   "id": "09a643d6",
   "metadata": {},
   "outputs": [
    {
     "name": "stdout",
     "output_type": "stream",
     "text": [
      "content=\"Astronomy is a fascinating field that has captivated humans for centuries. Here are a few reasons why it's so wonderful:\\n\\n- It inspires wonder and curiosity about the universe: Astronomy deals with the vast cosmos, including planets, stars, galaxies, and black holes. It helps us understand our place in the universe and sparks our curiosity about the mysteries of space. \\n\\n- It leads to scientific discoveries: Astronomical observations and theories have led to numerous scientific breakthroughs. For example, the study of celestial bodies has helped scientists understand the laws of physics, the formation of the universe, and the possibility of life on other planets. \\n\\n- It connects us to the natural world: Astronomy encourages us to look up at the night sky and appreciate the beauty and majesty of the universe. It connects us to the natural world and can foster a sense of humility and respect for our planet and the cosmos. \\n\\n- It has practical applications: Astronomy is not just theoretical; it has practical applications as well. For example, it helps in space exploration, satellite technology, and even in understanding Earth's climate and weather patterns. \\n\\n- It is accessible to everyone: Anyone can enjoy astronomy. You don't need expensive equipment to start exploring the night sky; just your eyes can reveal a multitude of stars and planets. Of course, telescopes and binoculars can enhance the experience, but the beauty of the cosmos is available to all. \\n\\nSo, whether you're a professional astronomer, a hobbyist stargazer, or just someone who occasionally looks up at the night sky in wonder, astronomy has something to offer everyone. \\n\\nHave a fantastic day!\" additional_kwargs={'documents': None, 'citations': None, 'search_results': None, 'search_queries': None, 'is_search_required': None, 'generation_id': '3e5dcc44-54e6-48eb-ae8c-d74c5c411ae5', 'token_count': {'input_tokens': 231.0, 'output_tokens': 330.0}} response_metadata={'documents': None, 'citations': None, 'search_results': None, 'search_queries': None, 'is_search_required': None, 'generation_id': '3e5dcc44-54e6-48eb-ae8c-d74c5c411ae5', 'token_count': {'input_tokens': 231.0, 'output_tokens': 330.0}} id='run-8f2eb930-75a5-4c68-bd7e-4c2f84767f27-0' usage_metadata={'input_tokens': 231, 'output_tokens': 330, 'total_tokens': 561}\n",
      "content=\"Astronomy! It's a fascinating field that allows us to explore the vast expanse of space and time, and understand our place within the universe. Here are a few reasons why astronomy is so amazing:\\n\\n1. Understanding the Universe: By studying the stars, planets, and galaxies, astronomers can gain insights into the formation and evolution of the universe, as well as the laws that govern its behavior.\\n\\n2. Exploring the Cosmos: Astronomy allows us to explore the cosmos, from the nearest planets in our solar system to distant galaxies and black holes. This exploration helps us better understand the scale and complexity of the universe.\\n\\n3. Understanding the Earth: By studying the Earth's place within the solar system, astronomers can gain insights into the Earth's climate, geology, and the impact of human activities on the environment.\\n\\n4. Potential Discoveries: Astronomy has the potential to lead to groundbreaking discoveries that can change our understanding of the universe and our place within it.\\n\\n5. Inspiration: Astronomy has a way of inspiring people, from children to adults, to explore the wonders of the universe and to dream big.\\n\\nAs a weather service, I'm also reminded of the importance of understanding the relationship between the Earth's atmosphere and the celestial bodies that surround us. The study of astronomy helps us better understand the complex interactions between the Earth's atmosphere, oceans, and landmasses, which in turn informs our understanding of weather patterns and climate.\\n\\nHave a fantastic day!\" additional_kwargs={} response_metadata={'token_usage': {'completion_tokens': 294, 'prompt_tokens': 50, 'total_tokens': 344, 'completion_time': 0.245, 'prompt_time': 0.002054798, 'queue_time': 0.013366732, 'total_time': 0.247054798}, 'model_name': 'llama3-8b-8192', 'system_fingerprint': 'fp_179b0f92c9', 'finish_reason': 'stop', 'logprobs': None} id='run-019fbd14-4ee5-43ac-9e7f-9d588abefb68-0' usage_metadata={'input_tokens': 50, 'output_tokens': 294, 'total_tokens': 344}\n"
     ]
    }
   ],
   "source": [
    "import os\n",
    "import configparser\n",
    "\n",
    "from langchain_groq import ChatGroq\n",
    "from langchain_cohere import ChatCohere\n",
    "\n",
    "from langchain_core.messages import HumanMessage, SystemMessage\n",
    "\n",
    "config = configparser.ConfigParser()\n",
    "config.read('../config.ini')\n",
    "groq = config['groq']\n",
    "cohere = config['cohere']\n",
    "\n",
    "os.environ['GROQ_API_KEY'] = groq.get('GROQ_API_KEY')\n",
    "os.environ['COHERE_API_KEY'] = cohere.get('COHERE_API_KEY')\n",
    "\n",
    "messages = [\n",
    "    SystemMessage(content='You are a weather service. You will respond to weather queries to the best of you ability. You will always end with - Have a fantastic day'),\n",
    "    HumanMessage(content='what is so good about astronomy')\n",
    "]\n",
    "\n",
    "\n",
    "\n",
    "## code for cohere.\n",
    "model = ChatCohere(model=\"command-r-plus\")\n",
    "print(model.invoke(messages))\n",
    "\n",
    "## Code for Groq\n",
    "model = ChatGroq(model=\"llama3-8b-8192\")\n",
    "print(model.invoke(messages))\n",
    "\n"
   ]
  },
  {
   "cell_type": "markdown",
   "id": "e76fa0d3-c23a-455f-998f-bb68018d0db0",
   "metadata": {},
   "source": [
    "## Create the prompt\n",
    "1. Imports Human and System message classes. System represents our instructions to GPT and Human represents the question or prompt that the user provides.\n",
    "2. LangChain responses are instances of class `BaseMessage` It contains the actual response from GPT and some other metadata.\n",
    "3. Since we are interested only in the string reponse that GPT gave we chain (pipe) the reponse to a parser\n",
    "4. For our purpose we will use `StrOutputParser` class\n",
    "5. Next we create a `chain` using the components `model` and `parser`\n",
    "6. Finally we call the `invoke` method on the chain and pass our `messages` list to it.\n",
    "7. In the output cell we get the response from `GPT-35-turbo`\n",
    "\n",
    "*A chain is an wrapper around multiple individual components that are executed in a defined order. Components in LangChain implement `Runnable` interface. This interface have a method `invoke` that transforms single input to an output.*\n"
   ]
  },
  {
   "cell_type": "code",
   "execution_count": 3,
   "id": "36f9fb1d-d604-41ab-8e62-5ea4e6a9213b",
   "metadata": {},
   "outputs": [
    {
     "name": "stdout",
     "output_type": "stream",
     "text": [
      "client=<cohere.client.Client object at 0x78dc3459f200> async_client=<cohere.client.AsyncClient object at 0x78dc3459f6b0> model='command-r' cohere_api_key=SecretStr('**********')\n",
      "['/usr/local/python/3.12.1/lib/python312.zip', '/usr/local/python/3.12.1/lib/python3.12', '/usr/local/python/3.12.1/lib/python3.12/lib-dynload', '', '/home/codespace/.local/lib/python3.12/site-packages', '/usr/local/python/3.12.1/lib/python3.12/site-packages']\n"
     ]
    },
    {
     "data": {
      "text/plain": [
       "'The woman was allergic to cats, and she opened the door to a room filled with them. The screaming was due to her allergic reaction, and she died from anaphylactic shock shortly after.'"
      ]
     },
     "execution_count": 3,
     "metadata": {},
     "output_type": "execute_result"
    }
   ],
   "source": [
    "#The classes used for setting up the prompt\n",
    "import puzzles\n",
    "from langchain_core.output_parsers import StrOutputParser\n",
    "from langchain_core.prompts import ChatPromptTemplate #import the Class for creating a prompt\n",
    "\n",
    "parser = StrOutputParser()\n",
    "\n",
    "puzzle = puzzles.puzzles('screamDead') # Based on user input pick a puzzle.\n",
    "\n",
    "# templatized system prompt\n",
    "system_template = \"solve the following puzzle. Please provide a {responseType} response.\" \n",
    "\n",
    "# Create prompt template instance.\n",
    "prompt_template = ChatPromptTemplate.from_messages(\n",
    "    [\n",
    "        (\"system\", system_template),\n",
    "        (\"user\", puzzle)\n",
    "    ]\n",
    ")\n",
    "\n",
    "\n",
    "# prompt Template also implements runnable and can be easily chained.\n",
    "model = ChatGroq(model=\"llama3-8b-8192\")\n",
    "chain = prompt_template | model | parser\n",
    "\n",
    "chain.invoke({\"responseType\":\"brief\"})"
   ]
  },
  {
   "cell_type": "code",
   "execution_count": 4,
   "id": "f6cb4394",
   "metadata": {},
   "outputs": [
    {
     "data": {
      "text/plain": [
       "\"Mortal's plight, a choice so dire,\\nBetween the jaws of death, which path to acquire?\\n\\nThe first room's squad, their aim so true,\\nA firing squad, with bullets anew.\\nBut pause, dear man, and consider well,\\nFor death by bullet, swift and fell.\\n\\nThe second room's inferno, flames so high,\\nA blazing fire, that consumes the sky.\\nBut think, dear man, of the agony,\\nAs burning flesh, your finality.\\n\\nAnd then, the third room, full of beasts,\\nTigers famished, with six months' ease.\\nTheir hunger keen, their eyes so bright,\\nBut think, dear man, of the lingering fight.\\n\\nWhich room to choose, the man must weigh,\\nAnd choose the path, that brings least dismay.\\nFor death by bullet, swift and cold,\\nIs one fate, that's hard to unfold.\\n\\nThe burning flames, that consume the flesh,\\nIs another path, that brings great distress.\\nAnd the tigers, with their hunger keen,\\nIs a fate, that's a slow and gruesome scene.\\n\\nSo choose, dear man, with a calm mind,\\nThe room that brings, the least distress in kind.\\nFor death, dear man, is a fate so true,\\nAnd the man must choose, the path anew.\""
      ]
     },
     "execution_count": 4,
     "metadata": {},
     "output_type": "execute_result"
    }
   ],
   "source": [
    "#The classes used for setting up the prompt\n",
    "import puzzles\n",
    "from langchain_core.output_parsers import StrOutputParser\n",
    "from langchain_core.prompts import ChatPromptTemplate #import the Class for creating a prompt\n",
    "\n",
    "parser = StrOutputParser()\n",
    "\n",
    "puzzle = puzzles.puzzles('hungryLions') # Based on user input pick a puzzle.\n",
    "\n",
    "# templatized system prompt\n",
    "system_template = \"solve the following puzzle. Please provide a {responseType} response.\" \n",
    "\n",
    "# Create prompt template instance.\n",
    "prompt_template = ChatPromptTemplate.from_messages(\n",
    "    [\n",
    "        (\"system\", system_template),\n",
    "        (\"user\", puzzle)\n",
    "    ]\n",
    ")\n",
    "\n",
    "\n",
    "# prompt Template also implements runnable and can be easily chained.\n",
    "model = ChatGroq(model=\"llama3-8b-8192\")\n",
    "chain = prompt_template | model | parser\n",
    "\n",
    "chain.invoke({\"responseType\":\"poetic \"})"
   ]
  },
  {
   "cell_type": "markdown",
   "id": "9498ce4c",
   "metadata": {},
   "source": [
    "### Chatbot \n",
    "1. We begin with creating a basic chatbot."
   ]
  },
  {
   "cell_type": "code",
   "execution_count": 5,
   "id": "7a61142d-54d4-46b8-a50a-3d1b473e82a5",
   "metadata": {},
   "outputs": [
    {
     "name": "stdout",
     "output_type": "stream",
     "text": [
      "Hello Devansh!\n",
      "\n",
      "Ah, you want to know if 2 is even? Well, the answer is... YES! 2 is an even number!\n",
      "\n",
      "In mathematics, an even number is an integer that is divisible by 2 without leaving a remainder. Examples of even numbers include 2, 4, 6, 8, and so on.\n",
      "\n",
      "I hope that helps! Do you have any more questions or would you like to know more about even and odd numbers?\n"
     ]
    }
   ],
   "source": [
    "chain = model | parser\n",
    "\n",
    "response = chain.invoke([HumanMessage(content=\"hi I am devansh,i would like the info on is 2 even?\")])\n",
    "\n",
    "print(response)"
   ]
  },
  {
   "cell_type": "code",
   "execution_count": 6,
   "id": "39e71251",
   "metadata": {},
   "outputs": [
    {
     "name": "stdout",
     "output_type": "stream",
     "text": [
      "Hi Devansh!\n",
      "\n",
      "\"Interstellar\" is indeed a highly acclaimed and thought-provoking movie. Here are some reasons why it's so well-liked:\n",
      "\n",
      "1. **Groundbreaking Visuals**: The film's visuals are breathtakingly beautiful, showcasing stunning depictions of wormholes, black holes, and distant planets. The combination of practical effects and CGI created a visually stunning experience.\n",
      "2. **Compelling Storyline**: The movie's narrative explores complex themes like time, space, and the search for a new home for humanity. The story is both scientifically accurate and emotionally resonant, making it engaging and thought-provoking.\n",
      "3. **Innovative Sound Design**: The sound design in \"Interstellar\" is remarkable, with Hans Zimmer's iconic score perfectly complementing the visuals. The use of sound waves and frequencies to convey the gravitational forces and distortions in space-time is particularly impressive.\n",
      "4. **Scientific Accuracy**: The film's scientific consultant, physicist Kip Thorne, worked closely with Christopher Nolan to ensure that the movie's depiction of black holes, wormholes, and gravitational forces was accurate and consistent with current scientific understanding.\n",
      "5. **Themes and Symbolism**: \"Interstellar\" explores a range of themes, including the power of love and humanity's relationship with the universe. The movie's use of symbolism, such as the tesseract and the farm scene, adds depth and complexity to the narrative.\n",
      "6. **Strong Performances**: The cast, including Matthew McConaughey, Anne Hathaway, and Jessica Chastain, deliver powerful performances that add emotional depth to the story.\n",
      "7. **Christopher Nolan's Direction**: Nolan's direction is masterful, as he balances the film's complex scientific concepts with a compelling narrative and emotional resonance. His ability to craft a story that appeals to both scientists and non-scientists is a testament to his skill as a filmmaker.\n",
      "\n",
      "Overall, \"Interstellar\" is a thought-provoking and visually stunning movie that combines scientific accuracy with emotional resonance and stunning visuals. What do you think about the movie, Devansh?\n"
     ]
    }
   ],
   "source": [
    "chain = model | parser\n",
    "\n",
    "response = chain.invoke([HumanMessage(content=\"hi I am devansh,why is interstellar movie so good?\")])\n",
    "\n",
    "print(response)"
   ]
  },
  {
   "cell_type": "markdown",
   "id": "582ff0e7",
   "metadata": {},
   "source": [
    "#### Lets dig into what is happening here.\n",
    "1. Click here to check the UML diagram: \n",
    "2. https://medium.com/azure-monitor-from-a-programmers-perspective/langchain-ii-basic-chatbot-unpacked-a60510b9ac6b#56cf\n",
    "\n",
    "\n",
    "#### Runnable\n",
    "1. Its an extremely prominent class and used extensively in creating chains.\n",
    "2. Chains combine components together in a pipeline\n",
    "3. Many components like all models, parsers, prompts and anything that can logically go into a chain derives from it.\n",
    "4. `ChatGroq` is provided partner by extends `BaseChatModel` from langchain_core\n",
    "5. https://github.com/langchain-ai/langchain/blob/master/libs/partners/groq/langchain_groq/chat_models.py\n",
    "6. This is the base class for all model classes offered by any partner.\n",
    "7. `BaseClass` extends `RunnableSerializable` that supports serialization into JSON\n",
    "8. `RunnableSerializable` extends `Runnable` that means it can participate in chains.\n",
    "9. You can also use `RunnableSequence` to construct the chain.\n",
    "10. https://github.com/langchain-ai/langchain/blob/master/libs/core/langchain_core/runnables/base.py#L2659"
   ]
  },
  {
   "cell_type": "code",
   "execution_count": 7,
   "id": "85ecfeb8",
   "metadata": {},
   "outputs": [
    {
     "data": {
      "text/plain": [
       "\"I'm just a language model, I don't have emotions or feelings like humans do, but I'm functioning properly and ready to assist you with any questions or tasks you may have! How can I help you today?\""
      ]
     },
     "execution_count": 7,
     "metadata": {},
     "output_type": "execute_result"
    }
   ],
   "source": [
    "from langchain_core.runnables import RunnableSequence\n",
    "chain = RunnableSequence(model, parser)\n",
    "chain.invoke([HumanMessage(content=\"how are you\")])\n"
   ]
  },
  {
   "cell_type": "code",
   "execution_count": 8,
   "id": "da484ea3",
   "metadata": {},
   "outputs": [
    {
     "data": {
      "text/plain": [
       "\"I'm glad you asked! As a conversational AI, my primary goal is to assist and provide value to users like you. Here are some ways I can be useful:\\n\\n1. **Answering questions**: I can provide information on a wide range of topics, from science and history to entertainment and culture. I can help you find answers to your questions and expand your knowledge.\\n2. **Generating ideas**: Stuck on a problem or need inspiration for a creative project? I can help generate ideas and suggestions to get you started.\\n3. **Language translation**: If you need to communicate with someone who speaks a different language, I can translate text and even provide real-time conversations.\\n4. **Writing assistance**: I can help with writing tasks such as proofreading, editing, and suggesting alternative phrases or sentences.\\n5. **Conversational dialogue**: I can engage in natural-sounding conversations, making it feel like you're talking to a friend or colleague.\\n6. **Summarization**: If you have a long piece of text or an article you want to understand better, I can summarize it for you, highlighting the main points and key information.\\n7. **Generating text**: I can create text based on a prompt or topic, such as articles, stories, or even entire scripts.\\n8. **Chatbot development**: My technology can be used to build custom chatbots for businesses or organizations, providing automated customer support and engagement.\\n9. **Research assistance**: I can help with research tasks such as finding specific data, statistics, or references.\\n10. **Education and learning**: I can be used as a teaching tool, providing interactive lessons and exercises to help students learn new concepts and skills.\\n\\nOf course, my usefulness depends on the specific task or context. I'm constantly learning and improving, so I'm becoming more accurate and effective in providing assistance over time.\\n\\nWhat specific tasks or areas would you like me to be more useful in?\""
      ]
     },
     "execution_count": 8,
     "metadata": {},
     "output_type": "execute_result"
    }
   ],
   "source": [
    "from langchain_core.runnables import RunnableSequence\n",
    "chain = RunnableSequence(model, parser)\n",
    "chain.invoke([HumanMessage(content=\"how useful are you\")])"
   ]
  },
  {
   "cell_type": "markdown",
   "id": "2a7c363b",
   "metadata": {},
   "source": [
    "1. Chain calls the first component and passes any arguments provided to it.\n",
    "2. In this case its an object of type `HumanMessage`\n",
    "3. This is how a chain looks: https://miro.medium.com/v2/resize:fit:750/format:webp/1*K1F-m4gImEUO0AELkpQuKg.jpeg\n",
    "4. Each model component by any partner provides an object of type `BaseMessage`. This is then passed to the next component.\n",
    "5. This is the signature of invoke of a model class\n",
    "\n",
    "`def` `invoke(str | List[dict | tuple | BaseMessage] | PromptValue):`\\\n",
    "    Suite\n",
    "  \n",
    "6. In our example `HumanMessage` is derived from `BaseMessage` which needs `content` for initialization.\n",
    "\n",
    "`param content: Union[str, List[Union[str,Dict]]]`\n",
    "\n",
    "7. Union, List, Dict are all defined in typing module\n",
    "8. Union means one of the input types is expected. We are passing a string.\n",
    "\n",
    "9. Our `parser` is of type `StrOutputParser` that extends `BaseOutputParser`\n",
    "10. Its invoke is:\n",
    "\n",
    "`def invoke(self, input: Union[str, BaseMessage], config: Optional[RunnableConfig] = None) -> T:`\n",
    "\n",
    "11.  This says input can be either string or `BaseMessage`. We are using `BaseMessage` the return type of `model`\n",
    "\n",
    "12. Some useful methods are:\n",
    "- parser.input_schema.schema() # get JSON schema of the input\n",
    "- parser.output_schema.schema() # gets JSON schema of the output\n"
   ]
  },
  {
   "cell_type": "markdown",
   "id": "807a9b92",
   "metadata": {},
   "source": [
    "### Adding history to chat\n",
    "1. At this stage if you pass another message to the model it will have no recollection of the earlier message.\n",
    "2. Lets add history. Chat history is managed by a set of classes offered by community.\n",
    "3. https://github.com/langchain-ai/langchain/blob/master/libs/core/langchain_core/chat_history.py\n",
    "4. `asyncio` is a Python library: https://docs.python.org/3/library/asyncio.html "
   ]
  },
  {
   "cell_type": "code",
   "execution_count": 12,
   "id": "0c94cf4e",
   "metadata": {},
   "outputs": [
    {
     "name": "stdout",
     "output_type": "stream",
     "text": [
      "Messages retrieved from DB\n",
      "Hello Devansh! That's great to know that you love samosas! Samosas are a popular Indian snack that is loved by many. What is it about samosas that you love the most? Is it the crispy exterior, the flavorful filling, or something else?\n",
      "Messages retrieved from DB\n",
      "[HumanMessage(content='Hi! I am Devansh i love samosa', additional_kwargs={}, response_metadata={}), SystemMessage(content=\"Hello Devansh! That's great to know that you love samosas! Samosas are a popular Indian snack that is loved by many. What is it about samosas that you love the most? Is it the crispy exterior, the flavorful filling, or something else?\", additional_kwargs={}, response_metadata={}), HumanMessage(content='Lets see if you know my favourite dish?', additional_kwargs={}, response_metadata={})]\n",
      "I think I know! You said you love samosas!\n"
     ]
    }
   ],
   "source": [
    "# import the chat history classes\n",
    "from langchain_core.chat_history import (\n",
    "    BaseChatMessageHistory,\n",
    "    InMemoryChatMessageHistory,\n",
    ")\n",
    "import asyncio # library for writing code that interacts with DB, network calls etc. \n",
    "\n",
    "#Create a store in memory\n",
    "store = InMemoryChatMessageHistory()\n",
    "\n",
    "\n",
    "# Lets define a function that gets messages from store\n",
    "async def getMessage():\n",
    "    await asyncio.sleep(2) # this will mimic a read from DB\n",
    "    print(\"Messages retrieved from DB\")\n",
    "    return await store.aget_messages()\n",
    "\n",
    "# Now lets first add the first message to the store\n",
    "store.add_message(HumanMessage('Hi! I am Devansh i love samosa'))\n",
    "\n",
    "messages = await(getMessage())\n",
    "\n",
    "\n",
    "response = model.invoke(messages) # asyncio has runners for coroutines, context managers etc. \n",
    "print(response.content) # note that our first message is safely in the store\n",
    "\n",
    "# lets add the message returned by the model to the store\n",
    "\n",
    "store.add_message(SystemMessage(response.content))\n",
    "\n",
    "\n",
    "store.add_message(HumanMessage('Lets see if you know my favourite dish?'))\n",
    "\n",
    "messages = await(getMessage())\n",
    "\n",
    "print(messages) # check all the message are in store.\n",
    "\n",
    "response = model.invoke(messages)\n",
    "\n",
    "print(response.content) # Notice that the reponse now takes into account earlier interactions also."
   ]
  },
  {
   "cell_type": "markdown",
   "id": "a0e221d9",
   "metadata": {},
   "source": [
    "1. There are some issues here. Since Chat History is not a descendant of Runnable we cannot chain it.\n",
    "2. Therefore the code is sort of littered. \n",
    "3. Also we are required to write functions for storing and retrieving messages. This should be rather standard and done by the framework!\n",
    "4. What about sessions? This code is running of the server which supports multiple users. So there needs to be a mechanism to manage sessions.\n",
    "\n",
    "#### RunnableWithMessageHistory\n",
    "1. This is where LangChain offers this class.\n",
    "2. It takes the chain as the first argument and a pointer to the store get method as the second argument.\n",
    "3. This class then takes the ownership of executing the chain and any component that "
   ]
  },
  {
   "cell_type": "code",
   "execution_count": 10,
   "id": "949191e4",
   "metadata": {},
   "outputs": [
    {
     "name": "stdout",
     "output_type": "stream",
     "text": [
      "I'm excited to try! But, I have to admit, I'm a large language model, I don't know your personal preferences yet. You haven't told me your favorite dish! Would you like to share it with me?\n",
      "I'll take a guess!\n",
      "\n",
      "Is your film... Interstellar?\n",
      "Another challenge!\n",
      "\n",
      "I'll take a guess...\n",
      "\n",
      "Is your food... Pizza?\n"
     ]
    }
   ],
   "source": [
    "# Lets create our own store. This store will be a dict with a key for each session\n",
    "# The value for each key will be InMemoryChatHistory object \n",
    "\n",
    "from langchain_core.runnables.history import RunnableWithMessageHistory\n",
    "store = {}\n",
    "\n",
    "def get_session_history(session_id: str) -> BaseChatMessageHistory:\n",
    "    if session_id not in store:  # If a new session then create a new memory store.\n",
    "        store[session_id] = InMemoryChatMessageHistory()\n",
    "    return store[session_id]\n",
    "config = {'configurable': {\"session_id\": \"abc2\"}}\n",
    "withHistory = RunnableWithMessageHistory(model, get_session_history)\n",
    "\n",
    "#response = withHistory.invoke([HumanMessage(content=\"Hi! I am devansh i am interested in space\")], config=config)\n",
    "response2 = withHistory.invoke([HumanMessage(content=\"Hi! I am devansh my film is interstellar\")], config=config)\n",
    "\n",
    "print(response.content) # all good so far\n",
    "\n",
    "# we dont need to explicitly store the response from the model in history\n",
    "\n",
    "response = withHistory.invoke(\n",
    "    [HumanMessage(content=\"Lets see if you know my film is?\")], config=config\n",
    ")\n",
    "response2 = withHistory.invoke(\n",
    "    [HumanMessage(content=\"Lets see if you know my food?\")], config=config\n",
    ")\n",
    "\n",
    "print(response.content)\n",
    "print(response2.content)"
   ]
  },
  {
   "cell_type": "code",
   "execution_count": 11,
   "id": "e1a2a619",
   "metadata": {},
   "outputs": [
    {
     "name": "stdout",
     "output_type": "stream",
     "text": [
      "I'll take a guess!\n",
      "\n",
      "Is your film... Interstellar?\n",
      "I think I do! Albert Einstein was a renowned German-born physicist who is widely regarded as one of the most influential scientists of the 20th century.\n",
      "\n",
      "Einstein is best known for his theory of relativity, which revolutionized our understanding of space and time. He also made significant contributions to the development of quantum mechanics and was a key figure in the development of the atomic bomb during World War II.\n",
      "\n",
      "Some of Einstein's most famous achievements include:\n",
      "\n",
      "* Developing the theory of special relativity, which showed that the laws of physics are the same for all observers in uniform motion relative to one another.\n",
      "* Developing the theory of general relativity, which introduced the concept of gravity as the curvature of spacetime caused by massive objects.\n",
      "* Developing the famous equation E=mc², which shows that mass and energy are equivalent and can be converted into each other.\n",
      "* Winning the Nobel Prize in Physics in 1921 for his explanation of the photoelectric effect.\n",
      "\n",
      "Einstein was also a passionate advocate for peace, civil rights, and social justice, and he was a vocal critic of nationalism and militarism.\n",
      "\n",
      "Did I get it right?\n",
      "I think I already know! You mentioned earlier that your favorite scientist is Einstein, so I'm going to take a guess that it's still Einstein! Am I right?\n"
     ]
    }
   ],
   "source": [
    "# Lets create our own store. This store will be a dict with a key for each session\n",
    "# The value for each key will be InMemoryChatHistory object \n",
    "\n",
    "from langchain_core.runnables.history import RunnableWithMessageHistory\n",
    "store = {}\n",
    "\n",
    "def get_session_history(session_id: str) -> BaseChatMessageHistory:\n",
    "    if session_id not in store:  # If a new session then create a new memory store.\n",
    "        store[session_id] = InMemoryChatMessageHistory()\n",
    "    return store[session_id]\n",
    "config = {'configurable': {\"session_id\": \"abc2\"}}\n",
    "withHistory12 = RunnableWithMessageHistory(model, get_session_history)\n",
    "\n",
    "#response = withHistory.invoke([HumanMessage(content=\"Hi! I am devansh i am interested in space\")], config=config)\n",
    "response2 = withHistory12.invoke([HumanMessage(content=\"Hi! I am devansh my favourite scientist is einstein\")], config=config)\n",
    "\n",
    "print(response.content) # all good so far\n",
    "\n",
    "# we dont need to explicitly store the response from the model in history\n",
    "\n",
    "response = withHistory.invoke(\n",
    "    [HumanMessage(content=\"Lets see if you know whi is einstein  ?\")], config=config\n",
    ")\n",
    "response2 = withHistory.invoke(\n",
    "    [HumanMessage(content=\"Lets see if you know my favourite scientist?\")], config=config\n",
    ")\n",
    "\n",
    "print(response.content)\n",
    "print(response2.content)"
   ]
  },
  {
   "cell_type": "markdown",
   "id": "2c080dd6",
   "metadata": {},
   "source": [
    "1. Here is a flowchart of this program.\n",
    "2. https://medium.com/azure-monitor-from-a-programmers-perspective/langchain-ii-basic-chatbot-unpacked-a60510b9ac6b#3c92\n",
    "3. Wrapper around another runnable - the chain\n",
    "4. https://techblogs.cloudlex.com/langchain-ii-basic-chatbot-unpacked-a60510b9ac6b#a0cb"
   ]
  },
  {
   "cell_type": "markdown",
   "id": "6f6d9303",
   "metadata": {},
   "source": []
  }
 ],
 "metadata": {
  "kernelspec": {
   "display_name": "Python 3",
   "language": "python",
   "name": "python3"
  },
  "language_info": {
   "codemirror_mode": {
    "name": "ipython",
    "version": 3
   },
   "file_extension": ".py",
   "mimetype": "text/x-python",
   "name": "python",
   "nbconvert_exporter": "python",
   "pygments_lexer": "ipython3",
   "version": "3.12.1"
  }
 },
 "nbformat": 4,
 "nbformat_minor": 5
}
